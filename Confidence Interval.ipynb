{
 "cells": [
  {
   "cell_type": "markdown",
   "metadata": {},
   "source": [
    "Suppose the mean and standard deviation of first statistics is $\\mu_1$ and $\\sigma_1$, the mean and standard deviation of second statistics is $\\mu_2$ and $\\sigma_2$, where $\\mu_1<\\mu_2$. And under normal distributed assumption, the 95% confidence interval for the two statistics is $[\\mu_1-1.96\\sigma_1,\\mu_1+1.96\\sigma_1]$ and $[\\mu_2-1.96\\sigma_2,\\mu_2+1.96\\sigma_2]$.\n",
    "Now if the two intervals overlap. Then we have $$\\mu_1+1.96\\sigma_1>\\mu_2-1.96\\sigma_2\tag{2}$$. To test whether the two statistics are not significantly different from each other, we have to have the following inequality to be held: $$\\frac{\\mu_2-\\mu_1}{\\sqrt{\\sigma_1^2+\\sigma_2^2}}<1.96\\tag 2$$. But from equation (1), we have  $$\\frac{\\mu_2-\\mu_1}{\\sqrt{\\sigma_1^2+\\sigma_2^2}}<1.96\\frac{\\sigma_1+\\sigma_2}{\\sqrt{\\sigma_1^2+\\sigma_2^2}}\\tag 3$$ and $$1.96<1.96\\frac{\\sigma_1+\\sigma_2}{\\sqrt{\\sigma_1^2+\\sigma_2^2}}\\tag 4$$. So we can construct $\\frac{\\mu_2-\\mu_1}{\\sqrt{\\sigma_1^2+\\sigma_2^2}}\\approx 1.96\\frac{\\sigma_1+\\sigma_2}{\\sqrt{\\sigma_1^2+\\sigma_2^2}}>1.96$, which means the two confidence interval intersect b a very small part and the two statistics is significantly different from each other at 95% level."
   ]
  }
 ],
 "metadata": {
  "kernelspec": {
   "display_name": "Python 3",
   "language": "python",
   "name": "python3"
  },
  "language_info": {
   "codemirror_mode": {
    "name": "ipython",
    "version": 3
   },
   "file_extension": ".py",
   "mimetype": "text/x-python",
   "name": "python",
   "nbconvert_exporter": "python",
   "pygments_lexer": "ipython3",
   "version": "3.6.7"
  }
 },
 "nbformat": 4,
 "nbformat_minor": 2
}
